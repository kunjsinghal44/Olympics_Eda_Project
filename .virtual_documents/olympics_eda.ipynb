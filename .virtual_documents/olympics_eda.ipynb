import pandas as pd
import numpy as np
import matplotlib.pyplot as plt
import seaborn as sns

# Set visualization style
sns.set(style="whitegrid")


# Load the dataset 
df = pd.read_csv('athlete_events.csv')

# Check the first few rows of the dataset
df.head()


# Clean the data
df.dropna(subset=['Year', 'Sport', 'Medal'], inplace=True)

# Check for any null values
df.isnull().sum()

# Convert 'Year' to datetime
df['Year'] = pd.to_datetime(df['Year'], format='%Y').dt.year

# Create a column for 'Age' of athletes
df['Age'].dropna(inplace=True)


# Medal distribution by Year

medals_per_year = df.groupby('Year')['Medal'].value_counts().unstack().fillna(0)
medals_per_year.plot(kind='bar', stacked=True, figsize=(12, 6))
plt.title('Medal Distribution by Year')
plt.xlabel('Year')
plt.ylabel('Number of Medals')
plt.legend(title='Medal Type', labels=['Gold', 'Silver', 'Bronze'])
plt.tight_layout()
plt.show()


# Top athletes by Medal Count

athletes_medals = df[df['Medal'].notnull()]['Name'].value_counts().head(10)
athletes_medals.plot(kind='barh', color='royalblue', figsize=(10, 6))
plt.title('Top 10 Athletes by Medal Count')
plt.xlabel('Number of Medals')
plt.ylabel('Athlete')
plt.tight_layout()
plt.show()


# Medal distribution by country

country_medals = df[df['Medal'].notnull()]['NOC'].value_counts().head(10)
country_medals.plot(kind='bar', color='orange', figsize=(10, 6))
plt.title('Top 10 Countries by Medal Count')
plt.xlabel('Country')
plt.ylabel('Number of Medals')
plt.xticks(rotation=45)
plt.tight_layout()
plt.show()


# Age distribution of Medalists

df['Age'].dropna(inplace=True)
medalists = df[df['Medal'].notnull()]
plt.figure(figsize=(10, 6))
sns.histplot(medalists['Age'], bins=30, kde=True, color='green')
plt.title('Age Distribution of Medalists')
plt.xlabel('Age')
plt.ylabel('Number of Medalists')
plt.tight_layout()
plt.show()


# Top Sports by Medal Count

top_sports = df[df['Medal'].notnull()]['Sport'].value_counts().head(10)
top_sports.plot(kind='bar', color='darkviolet', figsize=(10, 6))
plt.title('Top 10 Sports by Medal Count')
plt.xlabel('Sport')
plt.ylabel('Number of Medals')
plt.xticks(rotation=45)
plt.tight_layout()
plt.show()


# Heatmap of Medal Distribution by Country & Sport

medal_matrix = df[df['Medal'].notnull()].pivot_table(index='NOC', columns='Sport', values='Medal', aggfunc='count').fillna(0)
plt.figure(figsize=(14, 8))
sns.heatmap(medal_matrix, cmap='YlGnBu', annot=True, fmt='g', linewidths=0.5)
plt.title('Heatmap of Medal Distribution by Country and Sport')
plt.xlabel('Sport')
plt.ylabel('Country')
plt.tight_layout()
plt.show()


# Gender Representation in Sports

gender_sport = df.groupby(['Sport', 'Sex']).size().unstack().fillna(0)
gender_sport.plot(kind='barh', stacked=True, figsize=(12, 8))
plt.title('Gender Representation Across Sports')
plt.xlabel('Number of Athletes')
plt.ylabel('Sport')
plt.tight_layout()
plt.show()


# Comparison of Medal Counts by Country & Gender

gender_country_medals = df[df['Medal'].notnull()].groupby(['NOC', 'Sex'])['Medal'].count().unstack().fillna(0)
gender_country_medals.head(10).plot(kind='bar', figsize=(12, 6))
plt.title('Top 10 Countries by Medal Count (Gender Comparison)')
plt.xlabel('Country')
plt.ylabel('Number of Medals')
plt.xticks(rotation=45)
plt.tight_layout()
plt.show()



